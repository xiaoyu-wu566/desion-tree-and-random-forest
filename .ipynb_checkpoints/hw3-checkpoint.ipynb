{
 "cells": [
  {
   "cell_type": "code",
   "execution_count": 56,
   "metadata": {},
   "outputs": [],
   "source": [
    "import pandas as pd\n",
    "import numpy as np\n",
    "import matplotlib.pyplot as plt\n",
    "from sklearn.model_selection import StratifiedKFold\n",
    "from sklearn.linear_model import LogisticRegression"
   ]
  },
  {
   "cell_type": "markdown",
   "metadata": {},
   "source": [
    "### 1(a)"
   ]
  },
  {
   "cell_type": "code",
   "execution_count": 70,
   "metadata": {},
   "outputs": [
    {
     "data": {
      "image/png": "[encoded data removed]",
      "text/plain": [
       "<Figure size 432x288 with 1 Axes>"
      ]
     },
     "metadata": {
      "needs_background": "light"
     },
     "output_type": "display_data"
    }
   ],
   "source": [
    "trainData = pd.read_csv('hw3_question1.csv', delimiter = ',')\n",
    "trainData['area'].hist(bins = 10)\n",
    "#X = trainData.iloc[:,4:12]\n",
    "X = trainData.iloc[:,:-1]\n",
    "trainData.loc[trainData['area']==0,'area'] = 0\n",
    "trainData.loc[trainData['area']!=0,'area'] = 1\n",
    "y = trainData.iloc[:,-1]"
   ]
  },
  {
   "cell_type": "markdown",
   "metadata": {},
   "source": [
    "### The most burned area of the forest was between 0 to 100"
   ]
  },
  {
   "cell_type": "markdown",
   "metadata": {},
   "source": [
    "### 1(b)"
   ]
  },
  {
   "cell_type": "code",
   "execution_count": 72,
   "metadata": {},
   "outputs": [],
   "source": [
    "acc = []\n",
    "for fold_id,(idx_train, idx_test) in enumerate(StratifiedKFold(n_splits=10, \n",
    "                                                              random_state=1, \n",
    "                                                              shuffle=True).split(X,y)):\n",
    "    \n",
    "    X_train = X.iloc[idx_train,:]\n",
    "    y_train = y.iloc[idx_train]\n",
    "    X_test = X.iloc[idx_test,:]\n",
    "    y_test = y[idx_test]\n",
    "    clf = LogisticRegression(solver='liblinear', \n",
    "                             multi_class='auto').fit(X_train, y_train)\n",
    "    \n",
    "    acc.append(clf.score(X_test,y_test))"
   ]
  },
  {
   "cell_type": "code",
   "execution_count": 74,
   "metadata": {},
   "outputs": [],
   "source": [
    "avgAcc = sum(acc)/10"
   ]
  },
  {
   "cell_type": "code",
   "execution_count": 75,
   "metadata": {},
   "outputs": [
    {
     "data": {
      "text/plain": [
       "0.5130434782608696"
      ]
     },
     "execution_count": 75,
     "metadata": {},
     "output_type": "execute_result"
    }
   ],
   "source": [
    "avgAcc"
   ]
  }
 ],
 "metadata": {
  "kernelspec": {
   "display_name": "Python 3",
   "language": "python",
   "name": "python3"
  },
  "language_info": {
   "codemirror_mode": {
    "name": "ipython",
    "version": 3
   },
   "file_extension": ".py",
   "mimetype": "text/x-python",
   "name": "python",
   "nbconvert_exporter": "python",
   "pygments_lexer": "ipython3",
   "version": "3.7.3"
  }
 },
 "nbformat": 4,
 "nbformat_minor": 2
}
